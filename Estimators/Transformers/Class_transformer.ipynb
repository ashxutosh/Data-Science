{
 "cells": [
  {
   "cell_type": "code",
   "execution_count": 1,
   "id": "cb8eef39-edb4-4cae-b036-0561b3e2d3ac",
   "metadata": {},
   "outputs": [],
   "source": [
    "from sklearn.base import BaseEstimator, TransformerMixin\n",
    "from sklearn.preprocessing import StandardScaler\n",
    "import numpy as np"
   ]
  },
  {
   "cell_type": "code",
   "execution_count": 2,
   "id": "ea7c267c-d8d5-4bac-b27d-544189b50a34",
   "metadata": {},
   "outputs": [],
   "source": [
    "class MedianIQRScaler(BaseEstimator, TransformerMixin):\n",
    "    def __init__(self):\n",
    "        self.medians_ = None\n",
    "        self.iqr_ = None\n",
    "\n",
    "    def fit(self, X, y=None):\n",
    "        # Calculate medians and interquartile range for each feature\n",
    "        self.medians_ = np.median(X, axis=0)\n",
    "        Q1 = np.percentile(X, 25, axis=0)\n",
    "        Q3 = np.percentile(X, 75, axis=0)\n",
    "        self.iqr_ = Q3 - Q1\n",
    "\n",
    "        # Handle case where IQR is 0 to avoid division by zero during transform\n",
    "        self.iqr_[self.iqr_ == 0] = 1\n",
    "        return self\n",
    "\n",
    "    def transform(self, X):\n",
    "        # Check if fit has been called\n",
    "        if self.medians_ is None or self.iqr_ is None:\n",
    "            raise RuntimeError(\"The transformer has not been fitted yet.\")\n",
    "\n",
    "        # Scale features using median and IQR learned during fit\n",
    "        return (X - self.medians_) / self.iqr_"
   ]
  },
  {
   "cell_type": "code",
   "execution_count": 3,
   "id": "3aaf6e03-88b8-40c2-a48b-aa918d51d857",
   "metadata": {},
   "outputs": [
    {
     "name": "stdout",
     "output_type": "stream",
     "text": [
      "Transformed data (first 5 rows):\n",
      "[[-0.49872679 -0.71613207]\n",
      " [ 0.78423675 -0.08192868]\n",
      " [-0.03656645  0.52987512]\n",
      " [ 0.84159877 -0.09379661]\n",
      " [-0.3814692  -0.57206564]]\n"
     ]
    }
   ],
   "source": [
    "from sklearn.datasets import make_blobs\n",
    "\n",
    "# Generate synthetic data\n",
    "X, _ = make_blobs(n_samples=100, n_features=2, centers=3, random_state=42)\n",
    "\n",
    "# Initialize the transformer\n",
    "scaler = MedianIQRScaler()\n",
    "\n",
    "# Fit the scaler to the data\n",
    "scaler.fit(X)\n",
    "\n",
    "# Transform the data\n",
    "X_scaled = scaler.transform(X)\n",
    "\n",
    "# Check the first few rows of the transformed data\n",
    "print(\"Transformed data (first 5 rows):\")\n",
    "print(X_scaled[:5])\n"
   ]
  },
  {
   "cell_type": "code",
   "execution_count": null,
   "id": "ee965434-9cce-4e3a-b88a-79dd8668b2eb",
   "metadata": {},
   "outputs": [],
   "source": [
    "class MedianIQRScaler(BaseEstimator, TransformerMixin):\n",
    "    def __init__(self):\n",
    "        self.medians_ = None\n",
    "        self.iqr_ = None\n",
    "\n",
    "    def fit(self, X, y=None):\n",
    "        # Calculate medians and interquartile range for each feature\n",
    "        self.medians_ = np.median(X, axis=0)\n",
    "        Q1 = np.percentile(X, 25, axis=0)\n",
    "        Q3 = np.percentile(X, 75, axis=0)\n",
    "        self.iqr_ = Q3 - Q1\n",
    "\n",
    "        # Handle case where IQR is 0 to avoid division by zero during transform\n",
    "        self.iqr_[self.iqr_ == 0] = 1\n",
    "        return self\n",
    "\n",
    "    def transform(self, X):\n",
    "        # Check if fit has been called\n",
    "        if self.medians_ is None or self.iqr_ is None:\n",
    "            raise RuntimeError(\"The transformer has not been fitted yet.\")\n",
    "\n",
    "        # Scale features using median and IQR learned during fit\n",
    "        return (X - self.medians_) / self.iqr_"
   ]
  }
 ],
 "metadata": {
  "kernelspec": {
   "display_name": "Python 3 (ipykernel)",
   "language": "python",
   "name": "python3"
  },
  "language_info": {
   "codemirror_mode": {
    "name": "ipython",
    "version": 3
   },
   "file_extension": ".py",
   "mimetype": "text/x-python",
   "name": "python",
   "nbconvert_exporter": "python",
   "pygments_lexer": "ipython3",
   "version": "3.12.3"
  }
 },
 "nbformat": 4,
 "nbformat_minor": 5
}
